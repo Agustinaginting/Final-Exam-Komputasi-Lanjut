{
  "nbformat": 4,
  "nbformat_minor": 0,
  "metadata": {
    "colab": {
      "provenance": [],
      "authorship_tag": "ABX9TyOuF/mrNBv8JAgwMLyqUx4b",
      "include_colab_link": true
    },
    "kernelspec": {
      "name": "python3",
      "display_name": "Python 3"
    },
    "language_info": {
      "name": "python"
    }
  },
  "cells": [
    {
      "cell_type": "markdown",
      "metadata": {
        "id": "view-in-github",
        "colab_type": "text"
      },
      "source": [
        "<a href=\"https://colab.research.google.com/github/Agustinaginting/Final-Exam-Komputasi-Lanjut/blob/main/User_based_Collaborative_Filtering.ipynb\" target=\"_parent\"><img src=\"https://colab.research.google.com/assets/colab-badge.svg\" alt=\"Open In Colab\"/></a>"
      ]
    },
    {
      "cell_type": "code",
      "execution_count": null,
      "metadata": {
        "id": "K4R9MmAYgTec"
      },
      "outputs": [],
      "source": [
        "#Mendowload tools\n",
        "import os\n",
        "\n",
        "if not (os.path.exists(\"recsys.zip\") or os.path.exists(\"recsys\")):\n",
        "    !wget https://github.com/nzhinusoftcm/review-on-collaborative-filtering/raw/master/recsys.zip    \n",
        "    !unzip recsys.zip"
      ]
    },
    {
      "cell_type": "markdown",
      "source": [
        "Import Persyaratan\n",
        "\n",
        "matplotlib==3.2.2 numpy==1.19.2 pandas==1.0.5 python==3.7 scikit-learn==0.24.1 scikit-surprise==1.1.1 scipy==1.6.2"
      ],
      "metadata": {
        "id": "lMWBwIjRgPDM"
      }
    },
    {
      "cell_type": "code",
      "source": [
        "#import Library atau Package\n",
        "from sklearn.neighbors import NearestNeighbors\n",
        "from scipy.sparse import csr_matrix\n",
        "\n",
        "from recsys.datasets import ml100k\n",
        "from recsys.preprocessing import ids_encoder\n",
        "\n",
        "import pandas as pd\n",
        "import numpy as np\n",
        "import zipfile"
      ],
      "metadata": {
        "id": "Gc4e0_lwgyWj"
      },
      "execution_count": null,
      "outputs": []
    },
    {
      "cell_type": "markdown",
      "source": [
        "Memuat Rating Movielen"
      ],
      "metadata": {
        "id": "gVZU8yEhg6Tg"
      }
    },
    {
      "cell_type": "code",
      "source": [
        "#Mendownload Rating Movielen\n",
        "ratings, movies = ml100k.load()"
      ],
      "metadata": {
        "colab": {
          "base_uri": "https://localhost:8080/"
        },
        "id": "my5eufpXg9bj",
        "outputId": "c36a5f06-7d98-4ec4-8015-2e3425fef5f1"
      },
      "execution_count": null,
      "outputs": [
        {
          "output_type": "stream",
          "name": "stdout",
          "text": [
            "Download data 100.2%\n",
            "Successfully downloaded ml-100k.zip 4924029 bytes.\n",
            "Unzipping the ml-100k.zip zip file ...\n"
          ]
        }
      ]
    },
    {
      "cell_type": "markdown",
      "source": [
        "pengodean userid dan itemid"
      ],
      "metadata": {
        "id": "_vJNItjphB2E"
      }
    },
    {
      "cell_type": "code",
      "source": [
        "# create the encoder\n",
        "ratings, uencoder, iencoder = ids_encoder(ratings)"
      ],
      "metadata": {
        "id": "CBu0fxTrhHUk"
      },
      "execution_count": null,
      "outputs": []
    },
    {
      "cell_type": "markdown",
      "source": [
        "Ubah Dataframe peringkat menjadi matriks"
      ],
      "metadata": {
        "id": "JReG3kL1hLUX"
      }
    },
    {
      "cell_type": "code",
      "source": [
        "#Ubah Dataframe peringkat menjadi matriks\n",
        "def ratings_matrix(ratings):    \n",
        "    return csr_matrix(pd.crosstab(ratings.userid, ratings.itemid, ratings.rating, aggfunc=sum).fillna(0).values)    \n",
        "\n",
        "R = ratings_matrix(ratings)"
      ],
      "metadata": {
        "id": "aaUV6VcUhOz3"
      },
      "execution_count": null,
      "outputs": []
    },
    {
      "cell_type": "markdown",
      "source": [
        "mengembalikan knn pengguna untuk setiap pengguna."
      ],
      "metadata": {
        "id": "jLfTlgYUhiJ7"
      }
    },
    {
      "cell_type": "code",
      "source": [
        "##mengembalikan knn pengguna untuk setiap pengguna.\n",
        "def create_model(rating_matrix, metric):\n",
        "    \"\"\"\n",
        "    - create the nearest neighbors model with the corresponding similarity metric\n",
        "    - fit the model\n",
        "    \"\"\"\n",
        "    model = NearestNeighbors(metric=metric, n_neighbors=21, algorithm='brute')\n",
        "    model.fit(rating_matrix)    \n",
        "    return model\n",
        "def create_model(rating_matrix, metric):\n",
        "    \"\"\"\n",
        "    - create the nearest neighbors model with the corresponding similarity metric\n",
        "    - fit the model\n",
        "    \"\"\"\n",
        "    model = NearestNeighbors(metric=metric, n_neighbors=21, algorithm='brute')\n",
        "    model.fit(rating_matrix)    \n",
        "    return model"
      ],
      "metadata": {
        "id": "7TmQdn_qhjdM"
      },
      "execution_count": null,
      "outputs": []
    },
    {
      "cell_type": "code",
      "source": [
        "#mengembalikan knn pengguna untuk setiap pengguna.\n",
        "def create_model(rating_matrix, metric):\n",
        "    \"\"\"\n",
        "    - create the nearest neighbors model with the corresponding similarity metric\n",
        "    - fit the model\n",
        "    \"\"\"\n",
        "    model = NearestNeighbors(metric=metric, n_neighbors=21, algorithm='brute')\n",
        "    model.fit(rating_matrix)    \n",
        "    return model\n",
        "def nearest_neighbors(rating_matrix, model):\n",
        "    \"\"\"    \n",
        "    :param rating_matrix : rating matrix of shape (nb_users, nb_items)\n",
        "    :param model : nearest neighbors model    \n",
        "    :return\n",
        "        - similarities : distances of the neighbors from the referenced user\n",
        "        - neighbors : neighbors of the referenced user in decreasing order of similarities\n",
        "    \"\"\"    \n",
        "    similarities, neighbors = model.kneighbors(rating_matrix)        \n",
        "    return similarities[:, 1:], neighbors[:, 1:]"
      ],
      "metadata": {
        "id": "uLY3ZNTphoec"
      },
      "execution_count": null,
      "outputs": []
    },
    {
      "cell_type": "markdown",
      "source": [
        "Memanggil fungsi create_model() dan neighbor_neighbors() masing-masing untuk membuat model -NN dan menghitung tetangga terdekat untuk pengguna tertentu"
      ],
      "metadata": {
        "id": "GD4iKk4Xhs8f"
      }
    },
    {
      "cell_type": "code",
      "source": [
        "#Memanggil fungsi create_model() dan neighbor_neighbors() masing-masing untuk membuat \n",
        "#model -NN dan menghitung tetangga terdekat untuk pengguna tertentu\n",
        "\n",
        "model = create_model(rating_matrix=R, metric='cosine') # we can also use the 'euclidian' distance\n",
        "similarities, neighbors = nearest_neighbors(R, model)"
      ],
      "metadata": {
        "id": "CRHryg-ahv1m"
      },
      "execution_count": null,
      "outputs": []
    },
    {
      "cell_type": "markdown",
      "source": [
        "Menemukan item yang dibeli oleh pengguna serupa ini beserta frekuensinya"
      ],
      "metadata": {
        "id": "OCx9Bk_qh7lm"
      }
    },
    {
      "cell_type": "code",
      "source": [
        "#Menemukan item yang dibeli oleh pengguna serupa ini beserta frekuensinya\n",
        "def find_candidate_items(userid):\n",
        "    \"\"\"\n",
        "    Find candidate items for an active user\n",
        "    \n",
        "    :param userid : active user\n",
        "    :param neighbors : users similar to the active user        \n",
        "    :return candidates : top 30 of candidate items\n",
        "    \"\"\"\n",
        "    user_neighbors = neighbors[userid]\n",
        "    activities = ratings.loc[ratings.userid.isin(user_neighbors)]\n",
        "    \n",
        "    # sort items in decreasing order of frequency\n",
        "    frequency = activities.groupby('itemid')['rating'].count().reset_index(name='count').sort_values(['count'],ascending=False)\n",
        "    Gu_items = frequency.itemid\n",
        "    active_items = ratings.loc[ratings.userid == userid].itemid.to_list()\n",
        "    candidates = np.setdiff1d(Gu_items, active_items, assume_unique=True)[:30]\n",
        "        \n",
        "    return candidates"
      ],
      "metadata": {
        "id": "V0klfqLph9Jk"
      },
      "execution_count": null,
      "outputs": []
    },
    {
      "cell_type": "markdown",
      "source": [
        "Selanjutnya, hitung nilai rata-rata setiap pengguna dan nilai yang dinormalisasi untuk setiap item. Rata-rata DataFrame berisi nilai rata-rata untuk setiap pengguna. Dengan rating rata-rata setiap pengguna, dapat menambahkan kolom tambahan norm_rating ke DataFrame rating yang dapat diakses untuk membuat prediksi"
      ],
      "metadata": {
        "id": "E-WnV5SsiDaZ"
      }
    },
    {
      "cell_type": "code",
      "source": [
        "# mean ratings for each user\n",
        "mean = ratings.groupby(by='userid', as_index=False)['rating'].mean()\n",
        "mean_ratings = pd.merge(ratings, mean, suffixes=('','_mean'), on='userid')\n",
        "\n",
        "# normalized ratings for each items\n",
        "mean_ratings['norm_rating'] = mean_ratings['rating'] - mean_ratings['rating_mean']\n",
        "\n",
        "mean = mean.to_numpy()[:, 1]"
      ],
      "metadata": {
        "id": "t5Ogwb_CiEvM"
      },
      "execution_count": null,
      "outputs": []
    },
    {
      "cell_type": "code",
      "source": [
        "np_ratings = mean_ratings.to_numpy()"
      ],
      "metadata": {
        "id": "lH4s4l6WiLFR"
      },
      "execution_count": null,
      "outputs": []
    },
    {
      "cell_type": "markdown",
      "source": [
        "Definisikan fungsi predict yang memprediksi rating antara user u dan item i "
      ],
      "metadata": {
        "id": "3lppsrf_iRRX"
      }
    },
    {
      "cell_type": "code",
      "source": [
        "#definisikan fungsi predict yang memprediksi rating antara user u dan item i .\n",
        "def predict(userid, itemid):\n",
        "    \"\"\"\n",
        "    predict what score userid would have given to itemid.\n",
        "    \n",
        "    :param\n",
        "        - userid : user id for which we want to make prediction\n",
        "        - itemid : item id on which we want to make prediction\n",
        "        \n",
        "    :return\n",
        "        - r_hat : predicted rating of user userid on item itemid\n",
        "    \"\"\"\n",
        "    user_similarities = similarities[userid]\n",
        "    user_neighbors = neighbors[userid]\n",
        "    # get mean rating of user userid\n",
        "    user_mean = mean[userid]\n",
        "    \n",
        "    # find users who rated item 'itemid'\n",
        "    iratings = np_ratings[np_ratings[:, 1].astype('int') == itemid]\n",
        "    \n",
        "    # find similar users to 'userid' who rated item 'itemid'\n",
        "    suri = iratings[np.isin(iratings[:, 0], user_neighbors)]\n",
        "    \n",
        "    # similar users who rated current item (surci)\n",
        "    normalized_ratings = suri[:,4]\n",
        "    indexes = [np.where(user_neighbors == uid)[0][0] for uid in suri[:, 0].astype('int')]\n",
        "    sims = user_similarities[indexes]\n",
        "    \n",
        "    num = np.dot(normalized_ratings, sims)\n",
        "    den = np.sum(np.abs(sims))\n",
        "    \n",
        "    if num == 0 or den == 0:\n",
        "        return user_mean\n",
        "    \n",
        "    r_hat = user_mean + np.dot(normalized_ratings, sims) / np.sum(np.abs(sims))\n",
        "    \n",
        "    return r_hat"
      ],
      "metadata": {
        "id": "teAJxT4WiUjD"
      },
      "execution_count": null,
      "outputs": []
    },
    {
      "cell_type": "markdown",
      "source": [
        "Membuat prediksi peringkat untuk pengguna tertentu pada setiap item dalam rangkaian item kandidatnya."
      ],
      "metadata": {
        "id": "ro9coE1MibMk"
      }
    },
    {
      "cell_type": "code",
      "source": [
        "#Membuat prediksi peringkat untuk pengguna tertentu pada setiap item dalam rangkaian item kandidatnya.\n",
        "def user2userPredictions(userid, pred_path):\n",
        "    \"\"\"\n",
        "    Make rating prediction for the active user on each candidate item and save in file prediction.csv\n",
        "    \n",
        "    :param\n",
        "        - userid : id of the active user\n",
        "        - pred_path : where to save predictions\n",
        "    \"\"\"    \n",
        "    # find candidate items for the active user\n",
        "    candidates = find_candidate_items(userid)\n",
        "    \n",
        "    # loop over candidates items to make predictions\n",
        "    for itemid in candidates:\n",
        "        \n",
        "        # prediction for userid on itemid\n",
        "        r_hat = predict(userid, itemid)\n",
        "        \n",
        "        # save predictions\n",
        "        with open(pred_path, 'a+') as file:\n",
        "            line = '{},{},{}\\n'.format(userid, itemid, r_hat)\n",
        "            file.write(line)"
      ],
      "metadata": {
        "id": "-YvKnTaqicIK"
      },
      "execution_count": null,
      "outputs": []
    },
    {
      "cell_type": "code",
      "source": [
        "#hitung rating prediksi\n",
        "import sys\n",
        "\n",
        "def user2userCF():\n",
        "    \"\"\"\n",
        "    Make predictions for each user in the database.    \n",
        "    \"\"\"\n",
        "    # get list of users in the database\n",
        "    users = ratings.userid.unique()\n",
        "    \n",
        "    def _progress(count):\n",
        "        sys.stdout.write('\\rRating predictions. Progress status : %.1f%%' % (float(count/len(users))*100.0))\n",
        "        sys.stdout.flush()\n",
        "    \n",
        "    saved_predictions = 'predictions.csv'    \n",
        "    if os.path.exists(saved_predictions):\n",
        "        os.remove(saved_predictions)\n",
        "    \n",
        "    for count, userid in enumerate(users):        \n",
        "        # make rating predictions for the current user\n",
        "        user2userPredictions(userid, saved_predictions)\n",
        "        _progress(count)"
      ],
      "metadata": {
        "id": "vZDF6TVmiiFi"
      },
      "execution_count": null,
      "outputs": []
    },
    {
      "cell_type": "code",
      "source": [
        "#hitung rating prediksi\n",
        "user2userCF()"
      ],
      "metadata": {
        "colab": {
          "base_uri": "https://localhost:8080/"
        },
        "id": "WwqADohailOq",
        "outputId": "8e0042af-70bc-4833-81db-6e377ead9d71"
      },
      "execution_count": null,
      "outputs": [
        {
          "output_type": "stream",
          "name": "stdout",
          "text": [
            "Rating predictions. Progress status : 99.9%"
          ]
        }
      ]
    },
    {
      "cell_type": "markdown",
      "source": [
        "membaca prediksi untuk pengguna tertentu dan mengembalikan daftar item dalam urutan menurun dari peringkat yang diprediksi."
      ],
      "metadata": {
        "id": "iERAtfscixXW"
      }
    },
    {
      "cell_type": "code",
      "source": [
        "#membaca prediksi untuk pengguna tertentu dan mengembalikan daftar item dalam urutan menurun dari peringkat yang diprediksi.\n",
        "def user2userRecommendation(userid):\n",
        "    \"\"\"\n",
        "    \"\"\"\n",
        "    # encode the userid\n",
        "    uid = uencoder.transform([userid])[0]\n",
        "    saved_predictions = 'predictions.csv'\n",
        "    \n",
        "    predictions = pd.read_csv(saved_predictions, sep=',', names=['userid', 'itemid', 'predicted_rating'])\n",
        "    predictions = predictions[predictions.userid==uid]\n",
        "    List = predictions.sort_values(by=['predicted_rating'], ascending=False)\n",
        "    \n",
        "    List.userid = uencoder.inverse_transform(List.userid.tolist())\n",
        "    List.itemid = iencoder.inverse_transform(List.itemid.tolist())\n",
        "    \n",
        "    List = pd.merge(List, movies, on='itemid', how='inner')\n",
        "    \n",
        "    return List\n"
      ],
      "metadata": {
        "id": "knE83VQ5iyhJ"
      },
      "execution_count": null,
      "outputs": []
    },
    {
      "cell_type": "code",
      "source": [
        "#membaca data itemid 212\n",
        "user2userRecommendation(212)"
      ],
      "metadata": {
        "colab": {
          "base_uri": "https://localhost:8080/",
          "height": 990
        },
        "id": "YRVtBAwli26m",
        "outputId": "10f98eff-b60e-4fb9-dc7c-9a57699cdd9b"
      },
      "execution_count": null,
      "outputs": [
        {
          "output_type": "execute_result",
          "data": {
            "text/plain": [
              "    userid  itemid  predicted_rating  \\\n",
              "0      212     483          4.871495   \n",
              "1      212     357          4.764547   \n",
              "2      212      50          4.660002   \n",
              "3      212      98          4.613636   \n",
              "4      212      64          4.550733   \n",
              "5      212     194          4.522336   \n",
              "6      212     174          4.521300   \n",
              "7      212     134          4.414819   \n",
              "8      212     187          4.344531   \n",
              "9      212     196          4.303696   \n",
              "10     212     523          4.281802   \n",
              "11     212     216          4.278246   \n",
              "12     212     100          4.260087   \n",
              "13     212     168          4.206139   \n",
              "14     212     435          4.122984   \n",
              "15     212     135          4.115228   \n",
              "16     212      83          4.106995   \n",
              "17     212      69          4.086366   \n",
              "18     212      70          4.086328   \n",
              "19     212     275          3.985037   \n",
              "20     212     153          3.981619   \n",
              "21     212     514          3.956640   \n",
              "22     212     521          3.937792   \n",
              "23     212      97          3.906106   \n",
              "24     212     173          3.879325   \n",
              "25     212     660          3.847897   \n",
              "26     212     215          3.709920   \n",
              "27     212     258          3.583718   \n",
              "28     212     202          3.508617   \n",
              "29     212     237          3.039041   \n",
              "\n",
              "                                        title  \n",
              "0                           Casablanca (1942)  \n",
              "1      One Flew Over the Cuckoo's Nest (1975)  \n",
              "2                            Star Wars (1977)  \n",
              "3            Silence of the Lambs, The (1991)  \n",
              "4            Shawshank Redemption, The (1994)  \n",
              "5                           Sting, The (1973)  \n",
              "6              Raiders of the Lost Ark (1981)  \n",
              "7                         Citizen Kane (1941)  \n",
              "8              Godfather: Part II, The (1974)  \n",
              "9                   Dead Poets Society (1989)  \n",
              "10                      Cool Hand Luke (1967)  \n",
              "11             When Harry Met Sally... (1989)  \n",
              "12                               Fargo (1996)  \n",
              "13     Monty Python and the Holy Grail (1974)  \n",
              "14  Butch Cassidy and the Sundance Kid (1969)  \n",
              "15               2001: A Space Odyssey (1968)  \n",
              "16              Much Ado About Nothing (1993)  \n",
              "17                        Forrest Gump (1994)  \n",
              "18         Four Weddings and a Funeral (1994)  \n",
              "19               Sense and Sensibility (1995)  \n",
              "20                Fish Called Wanda, A (1988)  \n",
              "21                          Annie Hall (1977)  \n",
              "22                    Deer Hunter, The (1978)  \n",
              "23                  Dances with Wolves (1990)  \n",
              "24                 Princess Bride, The (1987)  \n",
              "25                Fried Green Tomatoes (1991)  \n",
              "26                     Field of Dreams (1989)  \n",
              "27                             Contact (1997)  \n",
              "28                       Groundhog Day (1993)  \n",
              "29                       Jerry Maguire (1996)  "
            ],
            "text/html": [
              "\n",
              "  <div id=\"df-b1665bdc-418c-4204-b422-483afd654fde\">\n",
              "    <div class=\"colab-df-container\">\n",
              "      <div>\n",
              "<style scoped>\n",
              "    .dataframe tbody tr th:only-of-type {\n",
              "        vertical-align: middle;\n",
              "    }\n",
              "\n",
              "    .dataframe tbody tr th {\n",
              "        vertical-align: top;\n",
              "    }\n",
              "\n",
              "    .dataframe thead th {\n",
              "        text-align: right;\n",
              "    }\n",
              "</style>\n",
              "<table border=\"1\" class=\"dataframe\">\n",
              "  <thead>\n",
              "    <tr style=\"text-align: right;\">\n",
              "      <th></th>\n",
              "      <th>userid</th>\n",
              "      <th>itemid</th>\n",
              "      <th>predicted_rating</th>\n",
              "      <th>title</th>\n",
              "    </tr>\n",
              "  </thead>\n",
              "  <tbody>\n",
              "    <tr>\n",
              "      <th>0</th>\n",
              "      <td>212</td>\n",
              "      <td>483</td>\n",
              "      <td>4.871495</td>\n",
              "      <td>Casablanca (1942)</td>\n",
              "    </tr>\n",
              "    <tr>\n",
              "      <th>1</th>\n",
              "      <td>212</td>\n",
              "      <td>357</td>\n",
              "      <td>4.764547</td>\n",
              "      <td>One Flew Over the Cuckoo's Nest (1975)</td>\n",
              "    </tr>\n",
              "    <tr>\n",
              "      <th>2</th>\n",
              "      <td>212</td>\n",
              "      <td>50</td>\n",
              "      <td>4.660002</td>\n",
              "      <td>Star Wars (1977)</td>\n",
              "    </tr>\n",
              "    <tr>\n",
              "      <th>3</th>\n",
              "      <td>212</td>\n",
              "      <td>98</td>\n",
              "      <td>4.613636</td>\n",
              "      <td>Silence of the Lambs, The (1991)</td>\n",
              "    </tr>\n",
              "    <tr>\n",
              "      <th>4</th>\n",
              "      <td>212</td>\n",
              "      <td>64</td>\n",
              "      <td>4.550733</td>\n",
              "      <td>Shawshank Redemption, The (1994)</td>\n",
              "    </tr>\n",
              "    <tr>\n",
              "      <th>5</th>\n",
              "      <td>212</td>\n",
              "      <td>194</td>\n",
              "      <td>4.522336</td>\n",
              "      <td>Sting, The (1973)</td>\n",
              "    </tr>\n",
              "    <tr>\n",
              "      <th>6</th>\n",
              "      <td>212</td>\n",
              "      <td>174</td>\n",
              "      <td>4.521300</td>\n",
              "      <td>Raiders of the Lost Ark (1981)</td>\n",
              "    </tr>\n",
              "    <tr>\n",
              "      <th>7</th>\n",
              "      <td>212</td>\n",
              "      <td>134</td>\n",
              "      <td>4.414819</td>\n",
              "      <td>Citizen Kane (1941)</td>\n",
              "    </tr>\n",
              "    <tr>\n",
              "      <th>8</th>\n",
              "      <td>212</td>\n",
              "      <td>187</td>\n",
              "      <td>4.344531</td>\n",
              "      <td>Godfather: Part II, The (1974)</td>\n",
              "    </tr>\n",
              "    <tr>\n",
              "      <th>9</th>\n",
              "      <td>212</td>\n",
              "      <td>196</td>\n",
              "      <td>4.303696</td>\n",
              "      <td>Dead Poets Society (1989)</td>\n",
              "    </tr>\n",
              "    <tr>\n",
              "      <th>10</th>\n",
              "      <td>212</td>\n",
              "      <td>523</td>\n",
              "      <td>4.281802</td>\n",
              "      <td>Cool Hand Luke (1967)</td>\n",
              "    </tr>\n",
              "    <tr>\n",
              "      <th>11</th>\n",
              "      <td>212</td>\n",
              "      <td>216</td>\n",
              "      <td>4.278246</td>\n",
              "      <td>When Harry Met Sally... (1989)</td>\n",
              "    </tr>\n",
              "    <tr>\n",
              "      <th>12</th>\n",
              "      <td>212</td>\n",
              "      <td>100</td>\n",
              "      <td>4.260087</td>\n",
              "      <td>Fargo (1996)</td>\n",
              "    </tr>\n",
              "    <tr>\n",
              "      <th>13</th>\n",
              "      <td>212</td>\n",
              "      <td>168</td>\n",
              "      <td>4.206139</td>\n",
              "      <td>Monty Python and the Holy Grail (1974)</td>\n",
              "    </tr>\n",
              "    <tr>\n",
              "      <th>14</th>\n",
              "      <td>212</td>\n",
              "      <td>435</td>\n",
              "      <td>4.122984</td>\n",
              "      <td>Butch Cassidy and the Sundance Kid (1969)</td>\n",
              "    </tr>\n",
              "    <tr>\n",
              "      <th>15</th>\n",
              "      <td>212</td>\n",
              "      <td>135</td>\n",
              "      <td>4.115228</td>\n",
              "      <td>2001: A Space Odyssey (1968)</td>\n",
              "    </tr>\n",
              "    <tr>\n",
              "      <th>16</th>\n",
              "      <td>212</td>\n",
              "      <td>83</td>\n",
              "      <td>4.106995</td>\n",
              "      <td>Much Ado About Nothing (1993)</td>\n",
              "    </tr>\n",
              "    <tr>\n",
              "      <th>17</th>\n",
              "      <td>212</td>\n",
              "      <td>69</td>\n",
              "      <td>4.086366</td>\n",
              "      <td>Forrest Gump (1994)</td>\n",
              "    </tr>\n",
              "    <tr>\n",
              "      <th>18</th>\n",
              "      <td>212</td>\n",
              "      <td>70</td>\n",
              "      <td>4.086328</td>\n",
              "      <td>Four Weddings and a Funeral (1994)</td>\n",
              "    </tr>\n",
              "    <tr>\n",
              "      <th>19</th>\n",
              "      <td>212</td>\n",
              "      <td>275</td>\n",
              "      <td>3.985037</td>\n",
              "      <td>Sense and Sensibility (1995)</td>\n",
              "    </tr>\n",
              "    <tr>\n",
              "      <th>20</th>\n",
              "      <td>212</td>\n",
              "      <td>153</td>\n",
              "      <td>3.981619</td>\n",
              "      <td>Fish Called Wanda, A (1988)</td>\n",
              "    </tr>\n",
              "    <tr>\n",
              "      <th>21</th>\n",
              "      <td>212</td>\n",
              "      <td>514</td>\n",
              "      <td>3.956640</td>\n",
              "      <td>Annie Hall (1977)</td>\n",
              "    </tr>\n",
              "    <tr>\n",
              "      <th>22</th>\n",
              "      <td>212</td>\n",
              "      <td>521</td>\n",
              "      <td>3.937792</td>\n",
              "      <td>Deer Hunter, The (1978)</td>\n",
              "    </tr>\n",
              "    <tr>\n",
              "      <th>23</th>\n",
              "      <td>212</td>\n",
              "      <td>97</td>\n",
              "      <td>3.906106</td>\n",
              "      <td>Dances with Wolves (1990)</td>\n",
              "    </tr>\n",
              "    <tr>\n",
              "      <th>24</th>\n",
              "      <td>212</td>\n",
              "      <td>173</td>\n",
              "      <td>3.879325</td>\n",
              "      <td>Princess Bride, The (1987)</td>\n",
              "    </tr>\n",
              "    <tr>\n",
              "      <th>25</th>\n",
              "      <td>212</td>\n",
              "      <td>660</td>\n",
              "      <td>3.847897</td>\n",
              "      <td>Fried Green Tomatoes (1991)</td>\n",
              "    </tr>\n",
              "    <tr>\n",
              "      <th>26</th>\n",
              "      <td>212</td>\n",
              "      <td>215</td>\n",
              "      <td>3.709920</td>\n",
              "      <td>Field of Dreams (1989)</td>\n",
              "    </tr>\n",
              "    <tr>\n",
              "      <th>27</th>\n",
              "      <td>212</td>\n",
              "      <td>258</td>\n",
              "      <td>3.583718</td>\n",
              "      <td>Contact (1997)</td>\n",
              "    </tr>\n",
              "    <tr>\n",
              "      <th>28</th>\n",
              "      <td>212</td>\n",
              "      <td>202</td>\n",
              "      <td>3.508617</td>\n",
              "      <td>Groundhog Day (1993)</td>\n",
              "    </tr>\n",
              "    <tr>\n",
              "      <th>29</th>\n",
              "      <td>212</td>\n",
              "      <td>237</td>\n",
              "      <td>3.039041</td>\n",
              "      <td>Jerry Maguire (1996)</td>\n",
              "    </tr>\n",
              "  </tbody>\n",
              "</table>\n",
              "</div>\n",
              "      <button class=\"colab-df-convert\" onclick=\"convertToInteractive('df-b1665bdc-418c-4204-b422-483afd654fde')\"\n",
              "              title=\"Convert this dataframe to an interactive table.\"\n",
              "              style=\"display:none;\">\n",
              "        \n",
              "  <svg xmlns=\"http://www.w3.org/2000/svg\" height=\"24px\"viewBox=\"0 0 24 24\"\n",
              "       width=\"24px\">\n",
              "    <path d=\"M0 0h24v24H0V0z\" fill=\"none\"/>\n",
              "    <path d=\"M18.56 5.44l.94 2.06.94-2.06 2.06-.94-2.06-.94-.94-2.06-.94 2.06-2.06.94zm-11 1L8.5 8.5l.94-2.06 2.06-.94-2.06-.94L8.5 2.5l-.94 2.06-2.06.94zm10 10l.94 2.06.94-2.06 2.06-.94-2.06-.94-.94-2.06-.94 2.06-2.06.94z\"/><path d=\"M17.41 7.96l-1.37-1.37c-.4-.4-.92-.59-1.43-.59-.52 0-1.04.2-1.43.59L10.3 9.45l-7.72 7.72c-.78.78-.78 2.05 0 2.83L4 21.41c.39.39.9.59 1.41.59.51 0 1.02-.2 1.41-.59l7.78-7.78 2.81-2.81c.8-.78.8-2.07 0-2.86zM5.41 20L4 18.59l7.72-7.72 1.47 1.35L5.41 20z\"/>\n",
              "  </svg>\n",
              "      </button>\n",
              "      \n",
              "  <style>\n",
              "    .colab-df-container {\n",
              "      display:flex;\n",
              "      flex-wrap:wrap;\n",
              "      gap: 12px;\n",
              "    }\n",
              "\n",
              "    .colab-df-convert {\n",
              "      background-color: #E8F0FE;\n",
              "      border: none;\n",
              "      border-radius: 50%;\n",
              "      cursor: pointer;\n",
              "      display: none;\n",
              "      fill: #1967D2;\n",
              "      height: 32px;\n",
              "      padding: 0 0 0 0;\n",
              "      width: 32px;\n",
              "    }\n",
              "\n",
              "    .colab-df-convert:hover {\n",
              "      background-color: #E2EBFA;\n",
              "      box-shadow: 0px 1px 2px rgba(60, 64, 67, 0.3), 0px 1px 3px 1px rgba(60, 64, 67, 0.15);\n",
              "      fill: #174EA6;\n",
              "    }\n",
              "\n",
              "    [theme=dark] .colab-df-convert {\n",
              "      background-color: #3B4455;\n",
              "      fill: #D2E3FC;\n",
              "    }\n",
              "\n",
              "    [theme=dark] .colab-df-convert:hover {\n",
              "      background-color: #434B5C;\n",
              "      box-shadow: 0px 1px 3px 1px rgba(0, 0, 0, 0.15);\n",
              "      filter: drop-shadow(0px 1px 2px rgba(0, 0, 0, 0.3));\n",
              "      fill: #FFFFFF;\n",
              "    }\n",
              "  </style>\n",
              "\n",
              "      <script>\n",
              "        const buttonEl =\n",
              "          document.querySelector('#df-b1665bdc-418c-4204-b422-483afd654fde button.colab-df-convert');\n",
              "        buttonEl.style.display =\n",
              "          google.colab.kernel.accessAllowed ? 'block' : 'none';\n",
              "\n",
              "        async function convertToInteractive(key) {\n",
              "          const element = document.querySelector('#df-b1665bdc-418c-4204-b422-483afd654fde');\n",
              "          const dataTable =\n",
              "            await google.colab.kernel.invokeFunction('convertToInteractive',\n",
              "                                                     [key], {});\n",
              "          if (!dataTable) return;\n",
              "\n",
              "          const docLinkHtml = 'Like what you see? Visit the ' +\n",
              "            '<a target=\"_blank\" href=https://colab.research.google.com/notebooks/data_table.ipynb>data table notebook</a>'\n",
              "            + ' to learn more about interactive tables.';\n",
              "          element.innerHTML = '';\n",
              "          dataTable['output_type'] = 'display_data';\n",
              "          await google.colab.output.renderOutput(dataTable, element);\n",
              "          const docLink = document.createElement('div');\n",
              "          docLink.innerHTML = docLinkHtml;\n",
              "          element.appendChild(docLink);\n",
              "        }\n",
              "      </script>\n",
              "    </div>\n",
              "  </div>\n",
              "  "
            ]
          },
          "metadata": {},
          "execution_count": 17
        }
      ]
    },
    {
      "cell_type": "markdown",
      "source": [
        "Evaluasi dengan Mean Absolute Error (MAE)"
      ],
      "metadata": {
        "id": "A0jRwR0ki-e5"
      }
    },
    {
      "cell_type": "code",
      "source": [
        "#Evaluasi dengan Mean Absolute Error (MAE)\n",
        "from recsys.preprocessing import train_test_split, get_examples\n",
        "\n",
        "# get examples as tuples of userids and itemids and labels from normalize ratings\n",
        "raw_examples, raw_labels = get_examples(ratings, labels_column='rating')\n",
        "\n",
        "# train test split\n",
        "(x_train, x_test), (y_train, y_test) = train_test_split(examples=raw_examples, labels=raw_labels)\n",
        "\n",
        "def evaluate(x_test, y_test):\n",
        "    print('Evaluate the model on {} test data ...'.format(x_test.shape[0]))\n",
        "    preds = list(predict(u,i) for (u,i) in x_test)\n",
        "    mae = np.sum(np.absolute(y_test - np.array(preds))) / x_test.shape[0]\n",
        "    print('\\nMAE :', mae)\n",
        "    return mae"
      ],
      "metadata": {
        "id": "Gcrwsp98i_wN"
      },
      "execution_count": null,
      "outputs": []
    },
    {
      "cell_type": "code",
      "source": [
        "#Evaluasi nilai MAE\n",
        "evaluate(x_test, y_test)"
      ],
      "metadata": {
        "colab": {
          "base_uri": "https://localhost:8080/"
        },
        "id": "qNqWvezCjFdC",
        "outputId": "113fab0c-7f28-4603-b00f-b48e415776f1"
      },
      "execution_count": null,
      "outputs": [
        {
          "output_type": "stream",
          "name": "stdout",
          "text": [
            "Evaluate the model on 10000 test data ...\n",
            "\n",
            "MAE : 0.7505910931068639\n"
          ]
        },
        {
          "output_type": "execute_result",
          "data": {
            "text/plain": [
              "0.7505910931068639"
            ]
          },
          "metadata": {},
          "execution_count": 19
        }
      ]
    },
    {
      "cell_type": "markdown",
      "source": [
        "Evaluasi pada set data ML-100k"
      ],
      "metadata": {
        "id": "uPdUi-_QjSjw"
      }
    },
    {
      "cell_type": "code",
      "source": [
        "#Evaluasi pada set data ML-100k\n",
        "from recsys.memories.UserToUser import UserToUser\n",
        "\n",
        "# load ml100k ratings\n",
        "ratings, movies = ml100k.load()\n",
        "\n",
        "# prepare data\n",
        "ratings, uencoder, iencoder = ids_encoder(ratings)\n",
        "\n",
        "# get examples as tuples of userids and itemids and labels from normalize ratings\n",
        "raw_examples, raw_labels = get_examples(ratings, labels_column='rating')\n",
        "\n",
        "# train test split\n",
        "(x_train, x_test), (y_train, y_test) = train_test_split(examples=raw_examples, labels=raw_labels)"
      ],
      "metadata": {
        "id": "dNBCmVHhjV5S",
        "colab": {
          "base_uri": "https://localhost:8080/",
          "height": 235
        },
        "outputId": "74722477-44fb-484e-8c31-cd5297872059"
      },
      "execution_count": null,
      "outputs": [
        {
          "output_type": "error",
          "ename": "NameError",
          "evalue": "ignored",
          "traceback": [
            "\u001b[0;31m---------------------------------------------------------------------------\u001b[0m",
            "\u001b[0;31mNameError\u001b[0m                                 Traceback (most recent call last)",
            "\u001b[0;32m<ipython-input-21-91d895e4e6ab>\u001b[0m in \u001b[0;36m<module>\u001b[0;34m\u001b[0m\n\u001b[1;32m      9\u001b[0m \u001b[0;34m\u001b[0m\u001b[0m\n\u001b[1;32m     10\u001b[0m \u001b[0;31m# get examples as tuples of userids and itemids and labels from normalize ratings\u001b[0m\u001b[0;34m\u001b[0m\u001b[0;34m\u001b[0m\u001b[0;34m\u001b[0m\u001b[0m\n\u001b[0;32m---> 11\u001b[0;31m \u001b[0mraw_examples\u001b[0m\u001b[0;34m,\u001b[0m \u001b[0mraw_labels\u001b[0m \u001b[0;34m=\u001b[0m \u001b[0mget_examples\u001b[0m\u001b[0;34m(\u001b[0m\u001b[0mratings\u001b[0m\u001b[0;34m,\u001b[0m \u001b[0mlabels_column\u001b[0m\u001b[0;34m=\u001b[0m\u001b[0;34m'rating'\u001b[0m\u001b[0;34m)\u001b[0m\u001b[0;34m\u001b[0m\u001b[0;34m\u001b[0m\u001b[0m\n\u001b[0m\u001b[1;32m     12\u001b[0m \u001b[0;34m\u001b[0m\u001b[0m\n\u001b[1;32m     13\u001b[0m \u001b[0;31m# train test split\u001b[0m\u001b[0;34m\u001b[0m\u001b[0;34m\u001b[0m\u001b[0;34m\u001b[0m\u001b[0m\n",
            "\u001b[0;31mNameError\u001b[0m: name 'get_examples' is not defined"
          ]
        }
      ]
    },
    {
      "cell_type": "code",
      "source": [
        "# create the user-based CF\n",
        "usertouser = UserToUser(ratings, movies, metric='cosine')"
      ],
      "metadata": {
        "colab": {
          "base_uri": "https://localhost:8080/"
        },
        "id": "LtVvn54qj2VX",
        "outputId": "d8ce38f1-57e5-4471-fb3f-67871319f858"
      },
      "execution_count": null,
      "outputs": [
        {
          "output_type": "stream",
          "name": "stdout",
          "text": [
            "Normalize users ratings ...\n",
            "Initialize the similarity model ...\n",
            "Compute nearest neighbors ...\n",
            "User to user recommendation model created with success ...\n"
          ]
        }
      ]
    },
    {
      "cell_type": "code",
      "source": [
        "# evaluate the user-based CF on the ml100k test data\n",
        "usertouser.evaluate(x_test, y_test)"
      ],
      "metadata": {
        "colab": {
          "base_uri": "https://localhost:8080/"
        },
        "id": "nEGrXj8hj4-L",
        "outputId": "a0d33796-cf51-4727-fe62-8eca2ae7789e"
      },
      "execution_count": null,
      "outputs": [
        {
          "output_type": "stream",
          "name": "stdout",
          "text": [
            "Evaluate the model on 10000 test data ...\n",
            "\n",
            "MAE : 0.7505910931068639\n"
          ]
        },
        {
          "output_type": "execute_result",
          "data": {
            "text/plain": [
              "0.7505910931068639"
            ]
          },
          "metadata": {},
          "execution_count": 25
        }
      ]
    },
    {
      "cell_type": "markdown",
      "source": [
        "Evaluasi pada kumpulan data ML-1M"
      ],
      "metadata": {
        "id": "J6kV_chsj9Ou"
      }
    },
    {
      "cell_type": "code",
      "source": [
        "from recsys.datasets import ml1m\n",
        "from recsys.preprocessing import ids_encoder, get_examples, train_test_split\n",
        "from recsys.memories.UserToUser import UserToUser\n",
        "\n",
        "# load ml100k ratings\n",
        "ratings, movies = ml1m.load()\n",
        "\n",
        "# prepare data\n",
        "ratings, uencoder, iencoder = ids_encoder(ratings)\n",
        "\n",
        "# get examples as tuples of userids and itemids and labels from normalize ratings\n",
        "raw_examples, raw_labels = get_examples(ratings, labels_column='rating')\n",
        "\n",
        "# train test split\n",
        "(x_train, x_test), (y_train, y_test) = train_test_split(examples=raw_examples, labels=raw_labels)\n",
        "\n",
        "# create the user-based CF\n",
        "usertouser = UserToUser(ratings, movies, k=20, metric='cosine')\n",
        "\n",
        "# evaluate the user-based CF on the ml1m test data\n",
        "print(\"==========================\")\n",
        "usertouser.evaluate(x_test, y_test)"
      ],
      "metadata": {
        "colab": {
          "base_uri": "https://localhost:8080/"
        },
        "id": "KQMUEWXTj-Zm",
        "outputId": "07871d8b-9bdd-422c-ff16-2efddfc78bea"
      },
      "execution_count": null,
      "outputs": [
        {
          "output_type": "stream",
          "name": "stdout",
          "text": [
            "Download data 100.1%\n",
            "Successfully downloaded ml-1m.zip 5917549 bytes.\n",
            "Unzipping the ml-1m.zip zip file ...\n",
            "Normalize users ratings ...\n",
            "Initialize the similarity model ...\n",
            "Compute nearest neighbors ...\n",
            "User to user recommendation model created with success ...\n",
            "==========================\n",
            "Evaluate the model on 100021 test data ...\n",
            "\n",
            "MAE : 0.732267005840993\n"
          ]
        },
        {
          "output_type": "execute_result",
          "data": {
            "text/plain": [
              "0.732267005840993"
            ]
          },
          "metadata": {},
          "execution_count": 26
        }
      ]
    },
    {
      "cell_type": "markdown",
      "source": [
        "Kesimpulan:\n",
        "1.\tKeterbatasan CF Sparsity berbasis pengguna : Secara umum, pengguna berinteraksi dengan kurang dari 20% item. Hal ini menyebabkan matriks peringkat menjadi sangat jarang. Misalnya, movielen-100k berisi peringkat 100k dari 943 pengguna pada 1682 item. Persentase dari sparsity dalam hal ini adalah sekitar 94%. Sistem pemberi rekomendasi berdasarkan algoritma tetangga terdekat mungkin tidak dapat membuat rekomendasi item apa pun untuk pengguna tertentu. Akibatnya, akurasi rekomendasi mungkin buruk.\n",
        "2.\tStabilitas peringkat pengguna : Saat pengguna memberi peringkat dan menilai ulang item, vektor peringkat mereka akan berubah seiring dengan kemiripannya dengan pengguna lain. Lingkungan pengguna ditentukan tidak hanya oleh peringkat mereka tetapi juga oleh peringkat pengguna lain, sehingga lingkungan mereka dapat berubah sebagai akibat dari peringkat baru yang diberikan oleh setiap pengguna dalam system.\n",
        "3.\tSkalabilitas : Karena peringkat pengguna yang tidak stabil, sulit untuk menemukan pengguna serupa sebelumnya. Untuk alasan ini, sebagian besar sistem CF berbasis pengguna menemukan lingkungan setiap kali prediksi atau rekomendasi diperlukan. Namun, ini adalah perhitungan besar yang tumbuh dengan jumlah pengguna dan jumlah item. Dengan jutaan pengguna dan item, sistem pemberi rekomendasi berbasis web biasa yang menjalankan algoritme yang ada akan mengalami masalah skalabilitas yang serius.\n",
        "4.\tCF berbasis-item Dengan CF berbasis-item, dimungkinkan untuk menghitung kesamaan terlebih dahulu dan menggunakannya untuk rekomendasi online. Hal ini memungkinkan berbasis Item menjadi lebih terukur daripada algoritma berbasis Pengguna.\n",
        "\n"
      ],
      "metadata": {
        "id": "DNDu7vhyiDhA"
      }
    }
  ]
}